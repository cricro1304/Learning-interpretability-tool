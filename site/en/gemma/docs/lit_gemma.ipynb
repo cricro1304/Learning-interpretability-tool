{
  "cells": [
    {
      "cell_type": "markdown",
      "metadata": {
        "id": "G3MMAcssHTML"
      },
      "source": [
        "<link rel=\"stylesheet\" href=\"/site-assets/css/gemma.css\">\n",
        "<link rel=\"stylesheet\" href=\"https://fonts.googleapis.com/css2?family=Google+Symbols:opsz,wght,FILL,GRAD@20..48,100..700,0..1,-50..200\" />"
      ]
    },
    {
      "cell_type": "markdown",
      "metadata": {
        "id": "Tce3stUlHN0L"
      },
      "source": [
        "##### Copyright 2024 Google LLC."
      ]
    },
    {
      "cell_type": "code",
      "execution_count": null,
      "metadata": {
        "cellView": "form",
        "id": "tuOe1ymfHZPu"
      },
      "outputs": [],
      "source": [
        "#@title Licensed under the Apache License, Version 2.0 (the \"License\");\n",
        "# you may not use this file except in compliance with the License.\n",
        "# You may obtain a copy of the License at\n",
        "#\n",
        "# https://www.apache.org/licenses/LICENSE-2.0\n",
        "#\n",
        "# Unless required by applicable law or agreed to in writing, software\n",
        "# distributed under the License is distributed on an \"AS IS\" BASIS,\n",
        "# WITHOUT WARRANTIES OR CONDITIONS OF ANY KIND, either express or implied.\n",
        "# See the License for the specific language governing permissions and\n",
        "# limitations under the License."
      ]
    },
    {
      "cell_type": "markdown",
      "metadata": {
        "id": "pYCKXrlPH0VW"
      },
      "source": [
        "# Using LIT with Gemma"
      ]
    },
    {
      "cell_type": "markdown",
      "metadata": {
        "id": "Hy4PNm1FHMqB"
      },
      "source": [
        "<table class=\"tfo-notebook-buttons\" align=\"left\">\n",
        "  <td>\n",
        "    <a target=\"_blank\" href=\"https://ai.google.dev/gemma/docs/lit_gemma\"><img src=\"https://ai.google.dev/static/site-assets/images/docs/notebook-site-button.png\" height=\"32\" width=\"32\" />View on Generative AI</a>\n",
        "  </td>\n",
        "  <td>\n",
        "    <a target=\"_blank\" href=\"https://colab.research.google.com/github/google/generative-ai-docs/blob/main/site/en/gemma/docs/lit_gemma.ipynb\"><img src=\"https://www.tensorflow.org/images/colab_logo_32px.png\" />Run in Google Colab</a>\n",
        "  </td>\n",
        "  <td>\n",
        "    <a target=\"_blank\" href=\"https://github.com/google/generative-ai-docs/blob/main/site/en/gemma/docs/lit_gemma.ipynb\"><img src=\"https://www.tensorflow.org/images/GitHub-Mark-32px.png\" />View source on GitHub</a>\n",
        "  </td>\n",
        "  <td>\n",
        "    <a target=\"_blank\" href=\"https://codelabs.developers.google.com/codelabs/responsible-ai/lit-gemma\"><img src=\"https://www.tensorflow.org/images/codelabs_logo.png\" height=\"24\" width=\"48\" />Learn in Codelabs</a>\n",
        "  </td>\n",
        "</table>"
      ]
    },
    {
      "cell_type": "markdown",
      "metadata": {
        "id": "_JK95-LDQ8Ln"
      },
      "source": [
        "Generative AI products are relatively new and their behaviors can vary more than\n",
        "earlier forms of software. This makes it important to probe the machine learning\n",
        "models being used, examine examples of the model's behavior and investigate\n",
        "surprises.\n",
        "\n",
        "The Learning Interpretability Tool (LIT; [website][lit-web], [GitHub][lit-gh])\n",
        "is a platform for debugging and analyzing ML models to understand why and how\n",
        "they behave the way they do.\n",
        "\n",
        "Here, you'll learn how to setup LIT to get more out of Google's\n",
        "[Gemma model][gemma] by using the Sequence Salience module to analyze different\n",
        "prompt engineering approaches.\n",
        "\n",
        "[lit-web]: https://pair-code.github.io/lit\n",
        "[lit-gh]: https://github.com/PAIR-code/lit\n",
        "[gemma]: https://ai.google.dev/gemma\n",
        "[keras-nlp]: https://keras.io/keras_nlp/"
      ]
    },
    {
      "cell_type": "markdown",
      "metadata": {
        "id": "W3DeT6ysMb7g"
      },
      "source": [
        "# Setting up LIT to Debug Gemma Prompts"
      ]
    },
    {
      "cell_type": "markdown",
      "metadata": {
        "id": "-8h-_gLNP6fd"
      },
      "source": [
        "*Note: you may see some warnings of the form*\n",
        "\n",
        "```\n",
        "ERROR: pip's dependency resolver does not currently take into account all the\n",
        "packages that are installed. This behaviour is the source of the following\n",
        "dependency conflicts.\n",
        "bigframes 0.21.0 requires scikit-learn>=1.2.2, but you have scikit-learn 1.0.2\n",
        "which is incompatible.\n",
        "google-colab 1.0.0 requires ipython==7.34.0, but you have ipython 8.14.0\n",
        "which is incompatible.\n",
        "```\n",
        "\n",
        "*These are safe to ignore.*"
      ]
    },
    {
      "cell_type": "markdown",
      "metadata": {
        "id": "SUakOwZaJSa2"
      },
      "source": [
        "## Install LIT and Keras NLP\n",
        "\n",
        "This notebook uses the KerasNLP implementation of Gemma (more on how to\n",
        "configure this below). You will need a recent version of `keras` (3.0+)\n",
        "`keras-nlp` (0.12+) and `lit-nlp` (1.2+), and a Kaggle account to download the\n",
        "base model."
      ]
    },
    {
      "cell_type": "code",
      "execution_count": 1,
      "metadata": {
        "id": "D5ktQxc6Jbo5",
        "outputId": "32016609-ab55-4fb9-e5e0-ec47c5ba00f5",
        "colab": {
          "base_uri": "https://localhost:8080/"
        }
      },
      "outputs": [
        {
          "output_type": "stream",
          "name": "stdout",
          "text": [
            "Requirement already satisfied: keras<4.0,>=3.0 in /usr/local/lib/python3.11/dist-packages (3.10.0)\n",
            "Requirement already satisfied: keras-nlp<0.15.0,>=0.14.0 in /usr/local/lib/python3.11/dist-packages (0.14.4)\n",
            "Requirement already satisfied: lit-nlp>=1.2 in /usr/local/lib/python3.11/dist-packages (1.3.1)\n",
            "Requirement already satisfied: absl-py in /usr/local/lib/python3.11/dist-packages (from keras<4.0,>=3.0) (1.4.0)\n",
            "Requirement already satisfied: numpy in /usr/local/lib/python3.11/dist-packages (from keras<4.0,>=3.0) (1.26.4)\n",
            "Requirement already satisfied: rich in /usr/local/lib/python3.11/dist-packages (from keras<4.0,>=3.0) (13.9.4)\n",
            "Requirement already satisfied: namex in /usr/local/lib/python3.11/dist-packages (from keras<4.0,>=3.0) (0.1.0)\n",
            "Requirement already satisfied: h5py in /usr/local/lib/python3.11/dist-packages (from keras<4.0,>=3.0) (3.13.0)\n",
            "Requirement already satisfied: optree in /usr/local/lib/python3.11/dist-packages (from keras<4.0,>=3.0) (0.16.0)\n",
            "Requirement already satisfied: ml-dtypes in /usr/local/lib/python3.11/dist-packages (from keras<4.0,>=3.0) (0.4.1)\n",
            "Requirement already satisfied: packaging in /usr/local/lib/python3.11/dist-packages (from keras<4.0,>=3.0) (24.2)\n",
            "Requirement already satisfied: regex in /usr/local/lib/python3.11/dist-packages (from keras-nlp<0.15.0,>=0.14.0) (2024.11.6)\n",
            "Requirement already satisfied: kagglehub in /usr/local/lib/python3.11/dist-packages (from keras-nlp<0.15.0,>=0.14.0) (0.3.12)\n",
            "Requirement already satisfied: tensorflow-text in /usr/local/lib/python3.11/dist-packages (from keras-nlp<0.15.0,>=0.14.0) (2.18.1)\n",
            "Requirement already satisfied: annoy>=1.17.3 in /usr/local/lib/python3.11/dist-packages (from lit-nlp>=1.2) (1.17.3)\n",
            "Requirement already satisfied: attrs>=22.1.0 in /usr/local/lib/python3.11/dist-packages (from lit-nlp>=1.2) (25.3.0)\n",
            "Requirement already satisfied: etils>=1.5.0 in /usr/local/lib/python3.11/dist-packages (from etils[epath]>=1.5.0->lit-nlp>=1.2) (1.12.2)\n",
            "Requirement already satisfied: filelock>=3.12.3 in /usr/local/lib/python3.11/dist-packages (from lit-nlp>=1.2) (3.18.0)\n",
            "Requirement already satisfied: google-cloud-translate>=3.11.1 in /usr/local/lib/python3.11/dist-packages (from lit-nlp>=1.2) (3.20.2)\n",
            "Requirement already satisfied: ipython>=7.34.0 in /usr/local/lib/python3.11/dist-packages (from lit-nlp>=1.2) (7.34.0)\n",
            "Requirement already satisfied: Levenshtein>=0.21.1 in /usr/local/lib/python3.11/dist-packages (from lit-nlp>=1.2) (0.27.1)\n",
            "Requirement already satisfied: matplotlib>=3.7.1 in /usr/local/lib/python3.11/dist-packages (from lit-nlp>=1.2) (3.10.0)\n",
            "Requirement already satisfied: ml-collections>=0.1.1 in /usr/local/lib/python3.11/dist-packages (from lit-nlp>=1.2) (1.1.0)\n",
            "Requirement already satisfied: pandas>=2.0.3 in /usr/local/lib/python3.11/dist-packages (from pandas[output-formatting]>=2.0.3->lit-nlp>=1.2) (2.2.2)\n",
            "Requirement already satisfied: Pillow>=10.0.0 in /usr/local/lib/python3.11/dist-packages (from lit-nlp>=1.2) (11.2.1)\n",
            "Requirement already satisfied: portpicker>=1.5.2 in /usr/local/lib/python3.11/dist-packages (from lit-nlp>=1.2) (1.5.2)\n",
            "Requirement already satisfied: requests>=2.31.0 in /usr/local/lib/python3.11/dist-packages (from lit-nlp>=1.2) (2.32.3)\n",
            "Requirement already satisfied: rouge-score>=0.1.2 in /usr/local/lib/python3.11/dist-packages (from lit-nlp>=1.2) (0.1.2)\n",
            "Requirement already satisfied: sacrebleu>=2.3.1 in /usr/local/lib/python3.11/dist-packages (from lit-nlp>=1.2) (2.5.1)\n",
            "Requirement already satisfied: saliency>=0.1.3 in /usr/local/lib/python3.11/dist-packages (from lit-nlp>=1.2) (0.2.1)\n",
            "Requirement already satisfied: scikit-learn>=1.0.2 in /usr/local/lib/python3.11/dist-packages (from lit-nlp>=1.2) (1.6.1)\n",
            "Requirement already satisfied: scipy>=1.10.1 in /usr/local/lib/python3.11/dist-packages (from lit-nlp>=1.2) (1.15.3)\n",
            "Requirement already satisfied: shap<0.46.0,>=0.42.0 in /usr/local/lib/python3.11/dist-packages (from lit-nlp>=1.2) (0.45.1)\n",
            "Requirement already satisfied: six>=1.16.0 in /usr/local/lib/python3.11/dist-packages (from lit-nlp>=1.2) (1.17.0)\n",
            "Requirement already satisfied: termcolor>=2.3.0 in /usr/local/lib/python3.11/dist-packages (from lit-nlp>=1.2) (3.1.0)\n",
            "Requirement already satisfied: tqdm>=4.64.0 in /usr/local/lib/python3.11/dist-packages (from lit-nlp>=1.2) (4.67.1)\n",
            "Requirement already satisfied: werkzeug>=2.2.3 in /usr/local/lib/python3.11/dist-packages (from lit-nlp>=1.2) (3.1.3)\n",
            "Requirement already satisfied: fsspec in /usr/local/lib/python3.11/dist-packages (from etils[epath]>=1.5.0->lit-nlp>=1.2) (2025.3.2)\n",
            "Requirement already satisfied: importlib_resources in /usr/local/lib/python3.11/dist-packages (from etils[epath]>=1.5.0->lit-nlp>=1.2) (6.5.2)\n",
            "Requirement already satisfied: typing_extensions in /usr/local/lib/python3.11/dist-packages (from etils[epath]>=1.5.0->lit-nlp>=1.2) (4.13.2)\n",
            "Requirement already satisfied: zipp in /usr/local/lib/python3.11/dist-packages (from etils[epath]>=1.5.0->lit-nlp>=1.2) (3.22.0)\n",
            "Requirement already satisfied: google-api-core!=2.0.*,!=2.1.*,!=2.10.*,!=2.2.*,!=2.3.*,!=2.4.*,!=2.5.*,!=2.6.*,!=2.7.*,!=2.8.*,!=2.9.*,<3.0.0,>=1.34.1 in /usr/local/lib/python3.11/dist-packages (from google-api-core[grpc]!=2.0.*,!=2.1.*,!=2.10.*,!=2.2.*,!=2.3.*,!=2.4.*,!=2.5.*,!=2.6.*,!=2.7.*,!=2.8.*,!=2.9.*,<3.0.0,>=1.34.1->google-cloud-translate>=3.11.1->lit-nlp>=1.2) (2.24.2)\n",
            "Requirement already satisfied: google-auth!=2.24.0,!=2.25.0,<3.0.0,>=2.14.1 in /usr/local/lib/python3.11/dist-packages (from google-cloud-translate>=3.11.1->lit-nlp>=1.2) (2.38.0)\n",
            "Requirement already satisfied: google-cloud-core<3.0.0,>=1.4.4 in /usr/local/lib/python3.11/dist-packages (from google-cloud-translate>=3.11.1->lit-nlp>=1.2) (2.4.3)\n",
            "Requirement already satisfied: proto-plus<2.0.0,>=1.22.3 in /usr/local/lib/python3.11/dist-packages (from google-cloud-translate>=3.11.1->lit-nlp>=1.2) (1.26.1)\n",
            "Requirement already satisfied: protobuf!=4.21.0,!=4.21.1,!=4.21.2,!=4.21.3,!=4.21.4,!=4.21.5,<7.0.0,>=3.20.2 in /usr/local/lib/python3.11/dist-packages (from google-cloud-translate>=3.11.1->lit-nlp>=1.2) (5.29.5)\n",
            "Requirement already satisfied: grpc-google-iam-v1<1.0.0,>=0.14.0 in /usr/local/lib/python3.11/dist-packages (from google-cloud-translate>=3.11.1->lit-nlp>=1.2) (0.14.2)\n",
            "Requirement already satisfied: setuptools>=18.5 in /usr/local/lib/python3.11/dist-packages (from ipython>=7.34.0->lit-nlp>=1.2) (75.2.0)\n",
            "Requirement already satisfied: jedi>=0.16 in /usr/local/lib/python3.11/dist-packages (from ipython>=7.34.0->lit-nlp>=1.2) (0.19.2)\n",
            "Requirement already satisfied: decorator in /usr/local/lib/python3.11/dist-packages (from ipython>=7.34.0->lit-nlp>=1.2) (4.4.2)\n",
            "Requirement already satisfied: pickleshare in /usr/local/lib/python3.11/dist-packages (from ipython>=7.34.0->lit-nlp>=1.2) (0.7.5)\n",
            "Requirement already satisfied: traitlets>=4.2 in /usr/local/lib/python3.11/dist-packages (from ipython>=7.34.0->lit-nlp>=1.2) (5.7.1)\n",
            "Requirement already satisfied: prompt-toolkit!=3.0.0,!=3.0.1,<3.1.0,>=2.0.0 in /usr/local/lib/python3.11/dist-packages (from ipython>=7.34.0->lit-nlp>=1.2) (3.0.51)\n",
            "Requirement already satisfied: pygments in /usr/local/lib/python3.11/dist-packages (from ipython>=7.34.0->lit-nlp>=1.2) (2.19.1)\n",
            "Requirement already satisfied: backcall in /usr/local/lib/python3.11/dist-packages (from ipython>=7.34.0->lit-nlp>=1.2) (0.2.0)\n",
            "Requirement already satisfied: matplotlib-inline in /usr/local/lib/python3.11/dist-packages (from ipython>=7.34.0->lit-nlp>=1.2) (0.1.7)\n",
            "Requirement already satisfied: pexpect>4.3 in /usr/local/lib/python3.11/dist-packages (from ipython>=7.34.0->lit-nlp>=1.2) (4.9.0)\n",
            "Requirement already satisfied: rapidfuzz<4.0.0,>=3.9.0 in /usr/local/lib/python3.11/dist-packages (from Levenshtein>=0.21.1->lit-nlp>=1.2) (3.13.0)\n",
            "Requirement already satisfied: contourpy>=1.0.1 in /usr/local/lib/python3.11/dist-packages (from matplotlib>=3.7.1->lit-nlp>=1.2) (1.3.2)\n",
            "Requirement already satisfied: cycler>=0.10 in /usr/local/lib/python3.11/dist-packages (from matplotlib>=3.7.1->lit-nlp>=1.2) (0.12.1)\n",
            "Requirement already satisfied: fonttools>=4.22.0 in /usr/local/lib/python3.11/dist-packages (from matplotlib>=3.7.1->lit-nlp>=1.2) (4.58.1)\n",
            "Requirement already satisfied: kiwisolver>=1.3.1 in /usr/local/lib/python3.11/dist-packages (from matplotlib>=3.7.1->lit-nlp>=1.2) (1.4.8)\n",
            "Requirement already satisfied: pyparsing>=2.3.1 in /usr/local/lib/python3.11/dist-packages (from matplotlib>=3.7.1->lit-nlp>=1.2) (3.2.3)\n",
            "Requirement already satisfied: python-dateutil>=2.7 in /usr/local/lib/python3.11/dist-packages (from matplotlib>=3.7.1->lit-nlp>=1.2) (2.9.0.post0)\n",
            "Requirement already satisfied: PyYAML in /usr/local/lib/python3.11/dist-packages (from ml-collections>=0.1.1->lit-nlp>=1.2) (6.0.2)\n",
            "Requirement already satisfied: pytz>=2020.1 in /usr/local/lib/python3.11/dist-packages (from pandas>=2.0.3->pandas[output-formatting]>=2.0.3->lit-nlp>=1.2) (2025.2)\n",
            "Requirement already satisfied: tzdata>=2022.7 in /usr/local/lib/python3.11/dist-packages (from pandas>=2.0.3->pandas[output-formatting]>=2.0.3->lit-nlp>=1.2) (2025.2)\n",
            "Requirement already satisfied: jinja2>=3.1.2 in /usr/local/lib/python3.11/dist-packages (from pandas[output-formatting]>=2.0.3->lit-nlp>=1.2) (3.1.6)\n",
            "Requirement already satisfied: tabulate>=0.9.0 in /usr/local/lib/python3.11/dist-packages (from pandas[output-formatting]>=2.0.3->lit-nlp>=1.2) (0.9.0)\n",
            "Requirement already satisfied: psutil in /usr/local/lib/python3.11/dist-packages (from portpicker>=1.5.2->lit-nlp>=1.2) (5.9.5)\n",
            "Requirement already satisfied: charset-normalizer<4,>=2 in /usr/local/lib/python3.11/dist-packages (from requests>=2.31.0->lit-nlp>=1.2) (3.4.2)\n",
            "Requirement already satisfied: idna<4,>=2.5 in /usr/local/lib/python3.11/dist-packages (from requests>=2.31.0->lit-nlp>=1.2) (3.10)\n",
            "Requirement already satisfied: urllib3<3,>=1.21.1 in /usr/local/lib/python3.11/dist-packages (from requests>=2.31.0->lit-nlp>=1.2) (2.4.0)\n",
            "Requirement already satisfied: certifi>=2017.4.17 in /usr/local/lib/python3.11/dist-packages (from requests>=2.31.0->lit-nlp>=1.2) (2025.4.26)\n",
            "Requirement already satisfied: nltk in /usr/local/lib/python3.11/dist-packages (from rouge-score>=0.1.2->lit-nlp>=1.2) (3.9.1)\n",
            "Requirement already satisfied: portalocker in /usr/local/lib/python3.11/dist-packages (from sacrebleu>=2.3.1->lit-nlp>=1.2) (3.1.1)\n",
            "Requirement already satisfied: colorama in /usr/local/lib/python3.11/dist-packages (from sacrebleu>=2.3.1->lit-nlp>=1.2) (0.4.6)\n",
            "Requirement already satisfied: lxml in /usr/local/lib/python3.11/dist-packages (from sacrebleu>=2.3.1->lit-nlp>=1.2) (5.4.0)\n",
            "Requirement already satisfied: scikit-image in /usr/local/lib/python3.11/dist-packages (from saliency>=0.1.3->lit-nlp>=1.2) (0.25.2)\n",
            "Requirement already satisfied: joblib>=1.2.0 in /usr/local/lib/python3.11/dist-packages (from scikit-learn>=1.0.2->lit-nlp>=1.2) (1.5.1)\n",
            "Requirement already satisfied: threadpoolctl>=3.1.0 in /usr/local/lib/python3.11/dist-packages (from scikit-learn>=1.0.2->lit-nlp>=1.2) (3.6.0)\n",
            "Requirement already satisfied: slicer==0.0.8 in /usr/local/lib/python3.11/dist-packages (from shap<0.46.0,>=0.42.0->lit-nlp>=1.2) (0.0.8)\n",
            "Requirement already satisfied: numba in /usr/local/lib/python3.11/dist-packages (from shap<0.46.0,>=0.42.0->lit-nlp>=1.2) (0.60.0)\n",
            "Requirement already satisfied: cloudpickle in /usr/local/lib/python3.11/dist-packages (from shap<0.46.0,>=0.42.0->lit-nlp>=1.2) (3.1.1)\n",
            "Requirement already satisfied: MarkupSafe>=2.1.1 in /usr/local/lib/python3.11/dist-packages (from werkzeug>=2.2.3->lit-nlp>=1.2) (3.0.2)\n",
            "Requirement already satisfied: markdown-it-py>=2.2.0 in /usr/local/lib/python3.11/dist-packages (from rich->keras<4.0,>=3.0) (3.0.0)\n",
            "Requirement already satisfied: tensorflow<2.19,>=2.18.0 in /usr/local/lib/python3.11/dist-packages (from tensorflow-text->keras-nlp<0.15.0,>=0.14.0) (2.18.0)\n",
            "Requirement already satisfied: googleapis-common-protos<2.0.0,>=1.56.2 in /usr/local/lib/python3.11/dist-packages (from google-api-core!=2.0.*,!=2.1.*,!=2.10.*,!=2.2.*,!=2.3.*,!=2.4.*,!=2.5.*,!=2.6.*,!=2.7.*,!=2.8.*,!=2.9.*,<3.0.0,>=1.34.1->google-api-core[grpc]!=2.0.*,!=2.1.*,!=2.10.*,!=2.2.*,!=2.3.*,!=2.4.*,!=2.5.*,!=2.6.*,!=2.7.*,!=2.8.*,!=2.9.*,<3.0.0,>=1.34.1->google-cloud-translate>=3.11.1->lit-nlp>=1.2) (1.70.0)\n",
            "Requirement already satisfied: grpcio<2.0dev,>=1.33.2 in /usr/local/lib/python3.11/dist-packages (from google-api-core[grpc]!=2.0.*,!=2.1.*,!=2.10.*,!=2.2.*,!=2.3.*,!=2.4.*,!=2.5.*,!=2.6.*,!=2.7.*,!=2.8.*,!=2.9.*,<3.0.0,>=1.34.1->google-cloud-translate>=3.11.1->lit-nlp>=1.2) (1.71.0)\n",
            "Requirement already satisfied: grpcio-status<2.0.dev0,>=1.33.2 in /usr/local/lib/python3.11/dist-packages (from google-api-core[grpc]!=2.0.*,!=2.1.*,!=2.10.*,!=2.2.*,!=2.3.*,!=2.4.*,!=2.5.*,!=2.6.*,!=2.7.*,!=2.8.*,!=2.9.*,<3.0.0,>=1.34.1->google-cloud-translate>=3.11.1->lit-nlp>=1.2) (1.71.0)\n",
            "Requirement already satisfied: cachetools<6.0,>=2.0.0 in /usr/local/lib/python3.11/dist-packages (from google-auth!=2.24.0,!=2.25.0,<3.0.0,>=2.14.1->google-cloud-translate>=3.11.1->lit-nlp>=1.2) (5.5.2)\n",
            "Requirement already satisfied: pyasn1-modules>=0.2.1 in /usr/local/lib/python3.11/dist-packages (from google-auth!=2.24.0,!=2.25.0,<3.0.0,>=2.14.1->google-cloud-translate>=3.11.1->lit-nlp>=1.2) (0.4.2)\n",
            "Requirement already satisfied: rsa<5,>=3.1.4 in /usr/local/lib/python3.11/dist-packages (from google-auth!=2.24.0,!=2.25.0,<3.0.0,>=2.14.1->google-cloud-translate>=3.11.1->lit-nlp>=1.2) (4.9.1)\n",
            "Requirement already satisfied: parso<0.9.0,>=0.8.4 in /usr/local/lib/python3.11/dist-packages (from jedi>=0.16->ipython>=7.34.0->lit-nlp>=1.2) (0.8.4)\n",
            "Requirement already satisfied: mdurl~=0.1 in /usr/local/lib/python3.11/dist-packages (from markdown-it-py>=2.2.0->rich->keras<4.0,>=3.0) (0.1.2)\n",
            "Requirement already satisfied: ptyprocess>=0.5 in /usr/local/lib/python3.11/dist-packages (from pexpect>4.3->ipython>=7.34.0->lit-nlp>=1.2) (0.7.0)\n",
            "Requirement already satisfied: wcwidth in /usr/local/lib/python3.11/dist-packages (from prompt-toolkit!=3.0.0,!=3.0.1,<3.1.0,>=2.0.0->ipython>=7.34.0->lit-nlp>=1.2) (0.2.13)\n",
            "Requirement already satisfied: astunparse>=1.6.0 in /usr/local/lib/python3.11/dist-packages (from tensorflow<2.19,>=2.18.0->tensorflow-text->keras-nlp<0.15.0,>=0.14.0) (1.6.3)\n",
            "Requirement already satisfied: flatbuffers>=24.3.25 in /usr/local/lib/python3.11/dist-packages (from tensorflow<2.19,>=2.18.0->tensorflow-text->keras-nlp<0.15.0,>=0.14.0) (25.2.10)\n",
            "Requirement already satisfied: gast!=0.5.0,!=0.5.1,!=0.5.2,>=0.2.1 in /usr/local/lib/python3.11/dist-packages (from tensorflow<2.19,>=2.18.0->tensorflow-text->keras-nlp<0.15.0,>=0.14.0) (0.6.0)\n",
            "Requirement already satisfied: google-pasta>=0.1.1 in /usr/local/lib/python3.11/dist-packages (from tensorflow<2.19,>=2.18.0->tensorflow-text->keras-nlp<0.15.0,>=0.14.0) (0.2.0)\n",
            "Requirement already satisfied: libclang>=13.0.0 in /usr/local/lib/python3.11/dist-packages (from tensorflow<2.19,>=2.18.0->tensorflow-text->keras-nlp<0.15.0,>=0.14.0) (18.1.1)\n",
            "Requirement already satisfied: opt-einsum>=2.3.2 in /usr/local/lib/python3.11/dist-packages (from tensorflow<2.19,>=2.18.0->tensorflow-text->keras-nlp<0.15.0,>=0.14.0) (3.4.0)\n",
            "Requirement already satisfied: wrapt>=1.11.0 in /usr/local/lib/python3.11/dist-packages (from tensorflow<2.19,>=2.18.0->tensorflow-text->keras-nlp<0.15.0,>=0.14.0) (1.17.2)\n",
            "Requirement already satisfied: tensorboard<2.19,>=2.18 in /usr/local/lib/python3.11/dist-packages (from tensorflow<2.19,>=2.18.0->tensorflow-text->keras-nlp<0.15.0,>=0.14.0) (2.18.0)\n",
            "Requirement already satisfied: tensorflow-io-gcs-filesystem>=0.23.1 in /usr/local/lib/python3.11/dist-packages (from tensorflow<2.19,>=2.18.0->tensorflow-text->keras-nlp<0.15.0,>=0.14.0) (0.37.1)\n",
            "Requirement already satisfied: click in /usr/local/lib/python3.11/dist-packages (from nltk->rouge-score>=0.1.2->lit-nlp>=1.2) (8.2.1)\n",
            "Requirement already satisfied: llvmlite<0.44,>=0.43.0dev0 in /usr/local/lib/python3.11/dist-packages (from numba->shap<0.46.0,>=0.42.0->lit-nlp>=1.2) (0.43.0)\n",
            "Requirement already satisfied: networkx>=3.0 in /usr/local/lib/python3.11/dist-packages (from scikit-image->saliency>=0.1.3->lit-nlp>=1.2) (3.5)\n",
            "Requirement already satisfied: imageio!=2.35.0,>=2.33 in /usr/local/lib/python3.11/dist-packages (from scikit-image->saliency>=0.1.3->lit-nlp>=1.2) (2.37.0)\n",
            "Requirement already satisfied: tifffile>=2022.8.12 in /usr/local/lib/python3.11/dist-packages (from scikit-image->saliency>=0.1.3->lit-nlp>=1.2) (2025.5.26)\n",
            "Requirement already satisfied: lazy-loader>=0.4 in /usr/local/lib/python3.11/dist-packages (from scikit-image->saliency>=0.1.3->lit-nlp>=1.2) (0.4)\n",
            "Requirement already satisfied: wheel<1.0,>=0.23.0 in /usr/local/lib/python3.11/dist-packages (from astunparse>=1.6.0->tensorflow<2.19,>=2.18.0->tensorflow-text->keras-nlp<0.15.0,>=0.14.0) (0.45.1)\n",
            "Requirement already satisfied: pyasn1<0.7.0,>=0.6.1 in /usr/local/lib/python3.11/dist-packages (from pyasn1-modules>=0.2.1->google-auth!=2.24.0,!=2.25.0,<3.0.0,>=2.14.1->google-cloud-translate>=3.11.1->lit-nlp>=1.2) (0.6.1)\n",
            "Requirement already satisfied: markdown>=2.6.8 in /usr/local/lib/python3.11/dist-packages (from tensorboard<2.19,>=2.18->tensorflow<2.19,>=2.18.0->tensorflow-text->keras-nlp<0.15.0,>=0.14.0) (3.8)\n",
            "Requirement already satisfied: tensorboard-data-server<0.8.0,>=0.7.0 in /usr/local/lib/python3.11/dist-packages (from tensorboard<2.19,>=2.18->tensorflow<2.19,>=2.18.0->tensorflow-text->keras-nlp<0.15.0,>=0.14.0) (0.7.2)\n"
          ]
        }
      ],
      "source": [
        "# Keras is included in Colab runtimes, but needs to be updated to to v3.0+.\n",
        "# LIT and Keras NLP are not icnldued by default and must be installed.\n",
        "# Running this cell may require you to restart your session to ensure the newer\n",
        "# packages are imported correctly.\n",
        "!pip install -U \"keras>=3.0,<4.0\" \"keras-nlp>=0.14.0,<0.15.0\" \"lit-nlp>=1.2\"\n"
      ]
    },
    {
      "cell_type": "code",
      "source": [
        "!pip uninstall -y thinc spacy\n",
        "!pip install -U \"keras>=3.0,<4.0\" \"keras-nlp>=0.14\" \"lit-nlp>=1.2\"\n"
      ],
      "metadata": {
        "id": "eP14Gp7zSCzj"
      },
      "execution_count": null,
      "outputs": []
    },
    {
      "cell_type": "markdown",
      "metadata": {
        "id": "VzFhJDayXroT"
      },
      "source": [
        "### Kaggle Access\n",
        "\n",
        "KerasNLP stores their pre-trained model weights on Kaggle. The\n",
        "[`kagglehub` package](https://github.com/Kaggle/kagglehub#authenticate) is used\n",
        "to autheticate with this service. Be sure to also accept the license agreement\n",
        "for [Gemma](https://www.kaggle.com/models/keras/gemma) from your Kaggle account.\n",
        "\n",
        "See the Appendix at the end for more information on how to set up a Kaggle\n",
        "account."
      ]
    },
    {
      "cell_type": "code",
      "execution_count": 3,
      "metadata": {
        "id": "yKw8gDsh_nVR",
        "outputId": "c94492ca-597a-4f09-e8e6-8a106ac5891c",
        "colab": {
          "base_uri": "https://localhost:8080/",
          "height": 84,
          "referenced_widgets": [
            "e14e0109fad64f09bd6e92d7654d8902",
            "243695ae638b4d04b7f2581a30835037",
            "f2f2c20f50bf46bdbb71915b455cf70d",
            "02f215f80e0a4dd8b9700034efa55197",
            "c3ceea59601345b5b879832047cfb238",
            "ede381ed0c50410aa237bf0a65d42991",
            "ef936e89eced47f09458d030ef8dc6be",
            "84bee9b6d60e4a8e9c91167e87b85f02",
            "02f3182855404d8792b7845dba3ff677",
            "59656d88143d4d84a526dc07db027036",
            "384268ea8af648f4b177205e7b545a15",
            "cb69ec46016449ec88777376008e9c2f",
            "e0b870f2849949aa87a494597952dd99",
            "25bb688558bc4ee6bf7f518326cf56fd",
            "73d38a67163e446da4df5f360bb8cec8",
            "04e9c27e06b04455ab850865b745c11c",
            "08caae4d55a44cc1adadc69e957cca57",
            "c81e59defe354d3cab2213e017e2753f",
            "f61c9d1906334cb480291da878474f6a",
            "662ac2fcc7ea487d879d698f3e7762fb",
            "af9a36759f6643a198dab43aaacc1c58",
            "5e0274c74eac4a99a9672a44f7b406bd",
            "58711d66aeef468e874dc90a96ed1f5f"
          ]
        }
      },
      "outputs": [
        {
          "output_type": "display_data",
          "data": {
            "text/plain": [
              "VBox(children=(HTML(value='<center> <img\\nsrc=https://www.kaggle.com/static/images/site-logo.png\\nalt=\\'Kaggle…"
            ],
            "application/vnd.jupyter.widget-view+json": {
              "version_major": 2,
              "version_minor": 0,
              "model_id": "e14e0109fad64f09bd6e92d7654d8902"
            }
          },
          "metadata": {}
        },
        {
          "output_type": "stream",
          "name": "stdout",
          "text": [
            "Kaggle credentials set.\n",
            "Kaggle credentials successfully validated.\n"
          ]
        }
      ],
      "source": [
        "import kagglehub\n",
        "\n",
        "kagglehub.login()"
      ]
    },
    {
      "cell_type": "markdown",
      "metadata": {
        "id": "f0-KhV-rShMa"
      },
      "source": [
        "## Configuring LIT"
      ]
    },
    {
      "cell_type": "markdown",
      "metadata": {
        "id": "v12sUSdiNPje"
      },
      "source": [
        "LIT provides a function, `make_notebook_widget()` for configuring our prompt\n",
        "debugging tools in a notebook context.\n",
        "\n",
        "LIT provides a dataset of sample prompts that accompany the tutorial linked\n",
        "later in this document.\n",
        "\n",
        "See the comments below for configuring the widget to use different models and/or\n",
        "datasets."
      ]
    },
    {
      "cell_type": "code",
      "execution_count": 5,
      "metadata": {
        "id": "BdgJqj56QSOC"
      },
      "outputs": [],
      "source": [
        "from lit_nlp.examples.prompt_debugging import notebook as lit_pdbnb\n",
        "\n",
        "# The following function initializes a LIT Notebook Widget. It's configured by\n",
        "# two required positional arguments:\n",
        "#\n",
        "# * `datasets_config`: A list of strings containing the dataset names and\n",
        "#       paths to load from, as \"dataset:path\", where path can be a URL or a\n",
        "#       local file path. The example below uses a special value,\n",
        "#       `sample_prompts`, to load the example prompts provided in the LIT\n",
        "#       distribution; no other special values are supported.\n",
        "# * `models_config`: A list of strings containing the model names and paths to\n",
        "#       load from, as \"model:path\", where path can be a URL, a local file path,\n",
        "#       or the name of a preset for the configured deep learning framework.\n",
        "#\n",
        "# LIT supports salience computation for KerasNLP and Hugging Face Transformers\n",
        "# models running on TensorFlow or PyTorch. Note that all models passed to the\n",
        "# `models_config` parameter will be loaded using the same framework and runtime.\n",
        "# You can cofnigre these with the following keywork arguments.\n",
        "#\n",
        "# * `dl_framework`: Must be one of \"kerasnlp\" or \"transformers\".\n",
        "# * `dl_runtime`: Must be one of \"tensorflow\" or \"torch\".\n",
        "#\n",
        "# Changing the `dl_framework` value will affect the authentication method used\n",
        "# to access Gemma model weights.\n",
        "\n",
        "lit_widget = lit_pdbnb.make_notebook_widget(\n",
        "    ['sample_prompts'],\n",
        "    [\"gemma_2b_it:gemma_1.1_instruct_2b_en\"],\n",
        "    dl_framework=\"kerasnlp\",\n",
        "    dl_runtime=\"tensorflow\",\n",
        "    batch_size=1,\n",
        "    max_examples=5,\n",
        "    precision=\"float32\",\n",
        ")"
      ]
    },
    {
      "cell_type": "markdown",
      "metadata": {
        "id": "Q6snqitV2wPX"
      },
      "source": [
        "Now you can render the UI in a Colab cell."
      ]
    },
    {
      "cell_type": "code",
      "execution_count": 6,
      "metadata": {
        "id": "F9DZMtEfURob",
        "outputId": "bb8a14ff-7e23-4fde-b5c1-6b7f79ca0bd4",
        "colab": {
          "base_uri": "https://localhost:8080/",
          "height": 1000
        }
      },
      "outputs": [
        {
          "output_type": "display_data",
          "data": {
            "text/plain": [
              "<IPython.core.display.Javascript object>"
            ],
            "application/javascript": [
              "(async (port, path, width, height, cache, element) => {\n",
              "    if (!google.colab.kernel.accessAllowed && !cache) {\n",
              "      return;\n",
              "    }\n",
              "    element.appendChild(document.createTextNode(''));\n",
              "    const url = await google.colab.kernel.proxyPort(port, {cache});\n",
              "    const iframe = document.createElement('iframe');\n",
              "    iframe.src = new URL(path, url).toString();\n",
              "    iframe.height = height;\n",
              "    iframe.width = width;\n",
              "    iframe.style.border = 0;\n",
              "    iframe.allow = [\n",
              "        'accelerometer',\n",
              "        'autoplay',\n",
              "        'camera',\n",
              "        'clipboard-read',\n",
              "        'clipboard-write',\n",
              "        'gyroscope',\n",
              "        'magnetometer',\n",
              "        'microphone',\n",
              "        'serial',\n",
              "        'usb',\n",
              "        'xr-spatial-tracking',\n",
              "    ].join('; ');\n",
              "    element.appendChild(iframe);\n",
              "  })(36859, \"/?\", \"100%\", \"1000\", false, window.element)"
            ]
          },
          "metadata": {}
        }
      ],
      "source": [
        "lit_widget.render()"
      ]
    },
    {
      "cell_type": "markdown",
      "metadata": {
        "id": "AawFyPUUS4cW"
      },
      "source": [
        "# Prompt Debugging with Sequence Salience\n",
        "\n",
        "Text-to-text large language models (LLMs), such as Gemma, take an input sequence\n",
        "in the form of [tokenized][tokenization] text and generate new tokens that are\n",
        "logical follow-ons or completions.\n",
        "\n",
        "[Salience methods][salience-explorable] allow you to inspect which parts of an\n",
        "input are important to the model for different parts of its generated output.\n",
        "LIT's [Sequence Salience module][lit-seq-sal] extends these methods to explain\n",
        "the importance of sequences at multiple levels of granularity: from tokens to\n",
        "words to sentences and beyond.\n",
        "\n",
        "You can use LIT in the cell above to play around with the Sequence Salience\n",
        "module on your own. For a more guided learning experience, you can follow long\n",
        "with the [_Prompt Debugging with Sequence Salience_ tutorial][seq-sal-tutorial]\n",
        "right in this Colab.\n",
        "\n",
        "For even more academic and techncial information on how Sequence Salience works,\n",
        "check out [our paper][seq-sal-paper].\n",
        "\n",
        "\n",
        "[lit-seq-sal]: https://pair-code.github.io/lit/documentation/components.html#sequence-salience\n",
        "[salience-explorable]: https://pair.withgoogle.com/explorables/saliency/\n",
        "[seq-sal-paper]: https://arxiv.org/abs/2404.07498\n",
        "[seq-sal-tutorial]: https://pair-code.github.io/lit/tutorials/sequence-salience/\n",
        "[tokenization]: https://arxiv.org/pdf/1808.06226.pdf\n"
      ]
    },
    {
      "cell_type": "markdown",
      "metadata": {
        "id": "IZWodzCgPM6k"
      },
      "source": [
        "# Appendix: Accessing Gemma on Kaggle Hub\n",
        "\n",
        "This notebook uses the KerasNLP implementation of Gemma in this document.\n",
        "KerasNLP stores their pre-trained model weights on Kaggle, and Gemma requires\n",
        "authentication and license acknowledgement to access those weights.\n",
        "\n",
        "The following instruction walk you through how to set up a Kaggle account and\n",
        "authenticate with Kaggle using the `kagglehub` package.\n",
        "\n",
        "1.  Create a Kaggle account if you don't have one\n",
        "    * Go to: https://www.kaggle.com/account/login?phase=startRegisterTab\n",
        "    * Use whichever registation method you prefer to set up your account.\n",
        "1. Request access to Gemma\n",
        "    * Make sure you're logged into Kaggle using the account above\n",
        "    * Go to the consent page: https://www.kaggle.com/models/google/gemma/license/consent\n",
        "    * Select the \"Verify via Kaggle Account\" option (the default selection) and click next\n",
        "    * Complete the consent form (first name and last name fields at the top)\n",
        "    * Acknowledge the policy using the checkboxes at the bottom\n",
        "    * Click the \"Accept\" button at the bottom to be granted access\n",
        "    * This should redirect you to the model page (https://www.kaggle.com/models/google/gemma)\n",
        "1. Create an API token\n",
        "    * Make sure you're logged into Kaggle using the account you created above\n",
        "    * Got to the Settings page: https://www.kaggle.com/settings\n",
        "    * Scroll down to the API section\n",
        "    * Use the \"Create New Token\" button to trigger token generation\n",
        "    * Use the on-screen menu to save the JSON file, named kaggle.json, the service generates to your machine\n",
        "    * The JSON file is an object with two properties, username and key, you'll need both to authenticate with their service later\n",
        "1. Use your API token credentials to authenticate with kagglehub in Colab\n",
        "    * Go to the LIT Sequence Saleince Colab: https://colab.sandbox.google.com/github/google/generative-ai-docs/blob/main/site/en/gemma/docs/lit_gemma.ipynb#scrollTo=yKw8gDsh_nVR\n",
        "    * Conntect to a GPU runtime\n",
        "    * For Gemma 2B you can use the free-tier T4 runtime\n",
        "    * For Gemma 7B you will need pre-paid Colab compute credits or a Colab Pro account to use a V100, L4, or A100 GPU\n",
        "    * Run the `kagglehub` code cell to display an HTML form that asks for your username and a token\n",
        "    * Copy the `username` field from the `kaggle.json` file you downloaded in the previous step and paste it into the `username` field in the form\n",
        "    * Copy the `key` field from the `kaggle.json` file you downloaded in the previous step and paste it into the `token` field in the form\n",
        "    * Click the login button to save these credentials in your runtime\n",
        "\n",
        "You will need to repeat the last step any time the Colab runtime is disconnected, as disconnection clears the cache the credentials are stored in."
      ]
    }
  ],
  "metadata": {
    "accelerator": "GPU",
    "colab": {
      "name": "lit_gemma.ipynb",
      "provenance": []
    },
    "kernelspec": {
      "display_name": "Python 3",
      "name": "python3"
    },
    "widgets": {
      "application/vnd.jupyter.widget-state+json": {
        "e14e0109fad64f09bd6e92d7654d8902": {
          "model_module": "@jupyter-widgets/controls",
          "model_name": "VBoxModel",
          "model_module_version": "1.5.0",
          "state": {
            "_dom_classes": [],
            "_model_module": "@jupyter-widgets/controls",
            "_model_module_version": "1.5.0",
            "_model_name": "VBoxModel",
            "_view_count": null,
            "_view_module": "@jupyter-widgets/controls",
            "_view_module_version": "1.5.0",
            "_view_name": "VBoxView",
            "box_style": "",
            "children": [
              "IPY_MODEL_af9a36759f6643a198dab43aaacc1c58"
            ],
            "layout": "IPY_MODEL_ef936e89eced47f09458d030ef8dc6be"
          }
        },
        "243695ae638b4d04b7f2581a30835037": {
          "model_module": "@jupyter-widgets/controls",
          "model_name": "HTMLModel",
          "model_module_version": "1.5.0",
          "state": {
            "_dom_classes": [],
            "_model_module": "@jupyter-widgets/controls",
            "_model_module_version": "1.5.0",
            "_model_name": "HTMLModel",
            "_view_count": null,
            "_view_module": "@jupyter-widgets/controls",
            "_view_module_version": "1.5.0",
            "_view_name": "HTMLView",
            "description": "",
            "description_tooltip": null,
            "layout": "IPY_MODEL_84bee9b6d60e4a8e9c91167e87b85f02",
            "placeholder": "​",
            "style": "IPY_MODEL_02f3182855404d8792b7845dba3ff677",
            "value": "<center> <img\nsrc=https://www.kaggle.com/static/images/site-logo.png\nalt='Kaggle'> <br> Create an API token from <a\nhref=\"https://www.kaggle.com/settings/account\" target=\"_blank\">your Kaggle\nsettings page</a> and paste it below along with your Kaggle username. <br> </center>"
          }
        },
        "f2f2c20f50bf46bdbb71915b455cf70d": {
          "model_module": "@jupyter-widgets/controls",
          "model_name": "TextModel",
          "model_module_version": "1.5.0",
          "state": {
            "_dom_classes": [],
            "_model_module": "@jupyter-widgets/controls",
            "_model_module_version": "1.5.0",
            "_model_name": "TextModel",
            "_view_count": null,
            "_view_module": "@jupyter-widgets/controls",
            "_view_module_version": "1.5.0",
            "_view_name": "TextView",
            "continuous_update": true,
            "description": "Username:",
            "description_tooltip": null,
            "disabled": false,
            "layout": "IPY_MODEL_59656d88143d4d84a526dc07db027036",
            "placeholder": "​",
            "style": "IPY_MODEL_384268ea8af648f4b177205e7b545a15",
            "value": "cristianoperrone"
          }
        },
        "02f215f80e0a4dd8b9700034efa55197": {
          "model_module": "@jupyter-widgets/controls",
          "model_name": "PasswordModel",
          "model_module_version": "1.5.0",
          "state": {
            "_dom_classes": [],
            "_model_module": "@jupyter-widgets/controls",
            "_model_module_version": "1.5.0",
            "_model_name": "PasswordModel",
            "_view_count": null,
            "_view_module": "@jupyter-widgets/controls",
            "_view_module_version": "1.5.0",
            "_view_name": "PasswordView",
            "continuous_update": true,
            "description": "Token:",
            "description_tooltip": null,
            "disabled": false,
            "layout": "IPY_MODEL_cb69ec46016449ec88777376008e9c2f",
            "placeholder": "​",
            "style": "IPY_MODEL_e0b870f2849949aa87a494597952dd99",
            "value": ""
          }
        },
        "c3ceea59601345b5b879832047cfb238": {
          "model_module": "@jupyter-widgets/controls",
          "model_name": "ButtonModel",
          "model_module_version": "1.5.0",
          "state": {
            "_dom_classes": [],
            "_model_module": "@jupyter-widgets/controls",
            "_model_module_version": "1.5.0",
            "_model_name": "ButtonModel",
            "_view_count": null,
            "_view_module": "@jupyter-widgets/controls",
            "_view_module_version": "1.5.0",
            "_view_name": "ButtonView",
            "button_style": "",
            "description": "Login",
            "disabled": false,
            "icon": "",
            "layout": "IPY_MODEL_25bb688558bc4ee6bf7f518326cf56fd",
            "style": "IPY_MODEL_73d38a67163e446da4df5f360bb8cec8",
            "tooltip": ""
          }
        },
        "ede381ed0c50410aa237bf0a65d42991": {
          "model_module": "@jupyter-widgets/controls",
          "model_name": "HTMLModel",
          "model_module_version": "1.5.0",
          "state": {
            "_dom_classes": [],
            "_model_module": "@jupyter-widgets/controls",
            "_model_module_version": "1.5.0",
            "_model_name": "HTMLModel",
            "_view_count": null,
            "_view_module": "@jupyter-widgets/controls",
            "_view_module_version": "1.5.0",
            "_view_name": "HTMLView",
            "description": "",
            "description_tooltip": null,
            "layout": "IPY_MODEL_04e9c27e06b04455ab850865b745c11c",
            "placeholder": "​",
            "style": "IPY_MODEL_08caae4d55a44cc1adadc69e957cca57",
            "value": "\n<b>Thank You</b></center>"
          }
        },
        "ef936e89eced47f09458d030ef8dc6be": {
          "model_module": "@jupyter-widgets/base",
          "model_name": "LayoutModel",
          "model_module_version": "1.2.0",
          "state": {
            "_model_module": "@jupyter-widgets/base",
            "_model_module_version": "1.2.0",
            "_model_name": "LayoutModel",
            "_view_count": null,
            "_view_module": "@jupyter-widgets/base",
            "_view_module_version": "1.2.0",
            "_view_name": "LayoutView",
            "align_content": null,
            "align_items": "center",
            "align_self": null,
            "border": null,
            "bottom": null,
            "display": "flex",
            "flex": null,
            "flex_flow": "column",
            "grid_area": null,
            "grid_auto_columns": null,
            "grid_auto_flow": null,
            "grid_auto_rows": null,
            "grid_column": null,
            "grid_gap": null,
            "grid_row": null,
            "grid_template_areas": null,
            "grid_template_columns": null,
            "grid_template_rows": null,
            "height": null,
            "justify_content": null,
            "justify_items": null,
            "left": null,
            "margin": null,
            "max_height": null,
            "max_width": null,
            "min_height": null,
            "min_width": null,
            "object_fit": null,
            "object_position": null,
            "order": null,
            "overflow": null,
            "overflow_x": null,
            "overflow_y": null,
            "padding": null,
            "right": null,
            "top": null,
            "visibility": null,
            "width": "50%"
          }
        },
        "84bee9b6d60e4a8e9c91167e87b85f02": {
          "model_module": "@jupyter-widgets/base",
          "model_name": "LayoutModel",
          "model_module_version": "1.2.0",
          "state": {
            "_model_module": "@jupyter-widgets/base",
            "_model_module_version": "1.2.0",
            "_model_name": "LayoutModel",
            "_view_count": null,
            "_view_module": "@jupyter-widgets/base",
            "_view_module_version": "1.2.0",
            "_view_name": "LayoutView",
            "align_content": null,
            "align_items": null,
            "align_self": null,
            "border": null,
            "bottom": null,
            "display": null,
            "flex": null,
            "flex_flow": null,
            "grid_area": null,
            "grid_auto_columns": null,
            "grid_auto_flow": null,
            "grid_auto_rows": null,
            "grid_column": null,
            "grid_gap": null,
            "grid_row": null,
            "grid_template_areas": null,
            "grid_template_columns": null,
            "grid_template_rows": null,
            "height": null,
            "justify_content": null,
            "justify_items": null,
            "left": null,
            "margin": null,
            "max_height": null,
            "max_width": null,
            "min_height": null,
            "min_width": null,
            "object_fit": null,
            "object_position": null,
            "order": null,
            "overflow": null,
            "overflow_x": null,
            "overflow_y": null,
            "padding": null,
            "right": null,
            "top": null,
            "visibility": null,
            "width": null
          }
        },
        "02f3182855404d8792b7845dba3ff677": {
          "model_module": "@jupyter-widgets/controls",
          "model_name": "DescriptionStyleModel",
          "model_module_version": "1.5.0",
          "state": {
            "_model_module": "@jupyter-widgets/controls",
            "_model_module_version": "1.5.0",
            "_model_name": "DescriptionStyleModel",
            "_view_count": null,
            "_view_module": "@jupyter-widgets/base",
            "_view_module_version": "1.2.0",
            "_view_name": "StyleView",
            "description_width": ""
          }
        },
        "59656d88143d4d84a526dc07db027036": {
          "model_module": "@jupyter-widgets/base",
          "model_name": "LayoutModel",
          "model_module_version": "1.2.0",
          "state": {
            "_model_module": "@jupyter-widgets/base",
            "_model_module_version": "1.2.0",
            "_model_name": "LayoutModel",
            "_view_count": null,
            "_view_module": "@jupyter-widgets/base",
            "_view_module_version": "1.2.0",
            "_view_name": "LayoutView",
            "align_content": null,
            "align_items": null,
            "align_self": null,
            "border": null,
            "bottom": null,
            "display": null,
            "flex": null,
            "flex_flow": null,
            "grid_area": null,
            "grid_auto_columns": null,
            "grid_auto_flow": null,
            "grid_auto_rows": null,
            "grid_column": null,
            "grid_gap": null,
            "grid_row": null,
            "grid_template_areas": null,
            "grid_template_columns": null,
            "grid_template_rows": null,
            "height": null,
            "justify_content": null,
            "justify_items": null,
            "left": null,
            "margin": null,
            "max_height": null,
            "max_width": null,
            "min_height": null,
            "min_width": null,
            "object_fit": null,
            "object_position": null,
            "order": null,
            "overflow": null,
            "overflow_x": null,
            "overflow_y": null,
            "padding": null,
            "right": null,
            "top": null,
            "visibility": null,
            "width": null
          }
        },
        "384268ea8af648f4b177205e7b545a15": {
          "model_module": "@jupyter-widgets/controls",
          "model_name": "DescriptionStyleModel",
          "model_module_version": "1.5.0",
          "state": {
            "_model_module": "@jupyter-widgets/controls",
            "_model_module_version": "1.5.0",
            "_model_name": "DescriptionStyleModel",
            "_view_count": null,
            "_view_module": "@jupyter-widgets/base",
            "_view_module_version": "1.2.0",
            "_view_name": "StyleView",
            "description_width": ""
          }
        },
        "cb69ec46016449ec88777376008e9c2f": {
          "model_module": "@jupyter-widgets/base",
          "model_name": "LayoutModel",
          "model_module_version": "1.2.0",
          "state": {
            "_model_module": "@jupyter-widgets/base",
            "_model_module_version": "1.2.0",
            "_model_name": "LayoutModel",
            "_view_count": null,
            "_view_module": "@jupyter-widgets/base",
            "_view_module_version": "1.2.0",
            "_view_name": "LayoutView",
            "align_content": null,
            "align_items": null,
            "align_self": null,
            "border": null,
            "bottom": null,
            "display": null,
            "flex": null,
            "flex_flow": null,
            "grid_area": null,
            "grid_auto_columns": null,
            "grid_auto_flow": null,
            "grid_auto_rows": null,
            "grid_column": null,
            "grid_gap": null,
            "grid_row": null,
            "grid_template_areas": null,
            "grid_template_columns": null,
            "grid_template_rows": null,
            "height": null,
            "justify_content": null,
            "justify_items": null,
            "left": null,
            "margin": null,
            "max_height": null,
            "max_width": null,
            "min_height": null,
            "min_width": null,
            "object_fit": null,
            "object_position": null,
            "order": null,
            "overflow": null,
            "overflow_x": null,
            "overflow_y": null,
            "padding": null,
            "right": null,
            "top": null,
            "visibility": null,
            "width": null
          }
        },
        "e0b870f2849949aa87a494597952dd99": {
          "model_module": "@jupyter-widgets/controls",
          "model_name": "DescriptionStyleModel",
          "model_module_version": "1.5.0",
          "state": {
            "_model_module": "@jupyter-widgets/controls",
            "_model_module_version": "1.5.0",
            "_model_name": "DescriptionStyleModel",
            "_view_count": null,
            "_view_module": "@jupyter-widgets/base",
            "_view_module_version": "1.2.0",
            "_view_name": "StyleView",
            "description_width": ""
          }
        },
        "25bb688558bc4ee6bf7f518326cf56fd": {
          "model_module": "@jupyter-widgets/base",
          "model_name": "LayoutModel",
          "model_module_version": "1.2.0",
          "state": {
            "_model_module": "@jupyter-widgets/base",
            "_model_module_version": "1.2.0",
            "_model_name": "LayoutModel",
            "_view_count": null,
            "_view_module": "@jupyter-widgets/base",
            "_view_module_version": "1.2.0",
            "_view_name": "LayoutView",
            "align_content": null,
            "align_items": null,
            "align_self": null,
            "border": null,
            "bottom": null,
            "display": null,
            "flex": null,
            "flex_flow": null,
            "grid_area": null,
            "grid_auto_columns": null,
            "grid_auto_flow": null,
            "grid_auto_rows": null,
            "grid_column": null,
            "grid_gap": null,
            "grid_row": null,
            "grid_template_areas": null,
            "grid_template_columns": null,
            "grid_template_rows": null,
            "height": null,
            "justify_content": null,
            "justify_items": null,
            "left": null,
            "margin": null,
            "max_height": null,
            "max_width": null,
            "min_height": null,
            "min_width": null,
            "object_fit": null,
            "object_position": null,
            "order": null,
            "overflow": null,
            "overflow_x": null,
            "overflow_y": null,
            "padding": null,
            "right": null,
            "top": null,
            "visibility": null,
            "width": null
          }
        },
        "73d38a67163e446da4df5f360bb8cec8": {
          "model_module": "@jupyter-widgets/controls",
          "model_name": "ButtonStyleModel",
          "model_module_version": "1.5.0",
          "state": {
            "_model_module": "@jupyter-widgets/controls",
            "_model_module_version": "1.5.0",
            "_model_name": "ButtonStyleModel",
            "_view_count": null,
            "_view_module": "@jupyter-widgets/base",
            "_view_module_version": "1.2.0",
            "_view_name": "StyleView",
            "button_color": null,
            "font_weight": ""
          }
        },
        "04e9c27e06b04455ab850865b745c11c": {
          "model_module": "@jupyter-widgets/base",
          "model_name": "LayoutModel",
          "model_module_version": "1.2.0",
          "state": {
            "_model_module": "@jupyter-widgets/base",
            "_model_module_version": "1.2.0",
            "_model_name": "LayoutModel",
            "_view_count": null,
            "_view_module": "@jupyter-widgets/base",
            "_view_module_version": "1.2.0",
            "_view_name": "LayoutView",
            "align_content": null,
            "align_items": null,
            "align_self": null,
            "border": null,
            "bottom": null,
            "display": null,
            "flex": null,
            "flex_flow": null,
            "grid_area": null,
            "grid_auto_columns": null,
            "grid_auto_flow": null,
            "grid_auto_rows": null,
            "grid_column": null,
            "grid_gap": null,
            "grid_row": null,
            "grid_template_areas": null,
            "grid_template_columns": null,
            "grid_template_rows": null,
            "height": null,
            "justify_content": null,
            "justify_items": null,
            "left": null,
            "margin": null,
            "max_height": null,
            "max_width": null,
            "min_height": null,
            "min_width": null,
            "object_fit": null,
            "object_position": null,
            "order": null,
            "overflow": null,
            "overflow_x": null,
            "overflow_y": null,
            "padding": null,
            "right": null,
            "top": null,
            "visibility": null,
            "width": null
          }
        },
        "08caae4d55a44cc1adadc69e957cca57": {
          "model_module": "@jupyter-widgets/controls",
          "model_name": "DescriptionStyleModel",
          "model_module_version": "1.5.0",
          "state": {
            "_model_module": "@jupyter-widgets/controls",
            "_model_module_version": "1.5.0",
            "_model_name": "DescriptionStyleModel",
            "_view_count": null,
            "_view_module": "@jupyter-widgets/base",
            "_view_module_version": "1.2.0",
            "_view_name": "StyleView",
            "description_width": ""
          }
        },
        "c81e59defe354d3cab2213e017e2753f": {
          "model_module": "@jupyter-widgets/controls",
          "model_name": "LabelModel",
          "model_module_version": "1.5.0",
          "state": {
            "_dom_classes": [],
            "_model_module": "@jupyter-widgets/controls",
            "_model_module_version": "1.5.0",
            "_model_name": "LabelModel",
            "_view_count": null,
            "_view_module": "@jupyter-widgets/controls",
            "_view_module_version": "1.5.0",
            "_view_name": "LabelView",
            "description": "",
            "description_tooltip": null,
            "layout": "IPY_MODEL_f61c9d1906334cb480291da878474f6a",
            "placeholder": "​",
            "style": "IPY_MODEL_662ac2fcc7ea487d879d698f3e7762fb",
            "value": "Connecting..."
          }
        },
        "f61c9d1906334cb480291da878474f6a": {
          "model_module": "@jupyter-widgets/base",
          "model_name": "LayoutModel",
          "model_module_version": "1.2.0",
          "state": {
            "_model_module": "@jupyter-widgets/base",
            "_model_module_version": "1.2.0",
            "_model_name": "LayoutModel",
            "_view_count": null,
            "_view_module": "@jupyter-widgets/base",
            "_view_module_version": "1.2.0",
            "_view_name": "LayoutView",
            "align_content": null,
            "align_items": null,
            "align_self": null,
            "border": null,
            "bottom": null,
            "display": null,
            "flex": null,
            "flex_flow": null,
            "grid_area": null,
            "grid_auto_columns": null,
            "grid_auto_flow": null,
            "grid_auto_rows": null,
            "grid_column": null,
            "grid_gap": null,
            "grid_row": null,
            "grid_template_areas": null,
            "grid_template_columns": null,
            "grid_template_rows": null,
            "height": null,
            "justify_content": null,
            "justify_items": null,
            "left": null,
            "margin": null,
            "max_height": null,
            "max_width": null,
            "min_height": null,
            "min_width": null,
            "object_fit": null,
            "object_position": null,
            "order": null,
            "overflow": null,
            "overflow_x": null,
            "overflow_y": null,
            "padding": null,
            "right": null,
            "top": null,
            "visibility": null,
            "width": null
          }
        },
        "662ac2fcc7ea487d879d698f3e7762fb": {
          "model_module": "@jupyter-widgets/controls",
          "model_name": "DescriptionStyleModel",
          "model_module_version": "1.5.0",
          "state": {
            "_model_module": "@jupyter-widgets/controls",
            "_model_module_version": "1.5.0",
            "_model_name": "DescriptionStyleModel",
            "_view_count": null,
            "_view_module": "@jupyter-widgets/base",
            "_view_module_version": "1.2.0",
            "_view_name": "StyleView",
            "description_width": ""
          }
        },
        "af9a36759f6643a198dab43aaacc1c58": {
          "model_module": "@jupyter-widgets/controls",
          "model_name": "LabelModel",
          "model_module_version": "1.5.0",
          "state": {
            "_dom_classes": [],
            "_model_module": "@jupyter-widgets/controls",
            "_model_module_version": "1.5.0",
            "_model_name": "LabelModel",
            "_view_count": null,
            "_view_module": "@jupyter-widgets/controls",
            "_view_module_version": "1.5.0",
            "_view_name": "LabelView",
            "description": "",
            "description_tooltip": null,
            "layout": "IPY_MODEL_5e0274c74eac4a99a9672a44f7b406bd",
            "placeholder": "​",
            "style": "IPY_MODEL_58711d66aeef468e874dc90a96ed1f5f",
            "value": "Kaggle credentials successfully validated."
          }
        },
        "5e0274c74eac4a99a9672a44f7b406bd": {
          "model_module": "@jupyter-widgets/base",
          "model_name": "LayoutModel",
          "model_module_version": "1.2.0",
          "state": {
            "_model_module": "@jupyter-widgets/base",
            "_model_module_version": "1.2.0",
            "_model_name": "LayoutModel",
            "_view_count": null,
            "_view_module": "@jupyter-widgets/base",
            "_view_module_version": "1.2.0",
            "_view_name": "LayoutView",
            "align_content": null,
            "align_items": null,
            "align_self": null,
            "border": null,
            "bottom": null,
            "display": null,
            "flex": null,
            "flex_flow": null,
            "grid_area": null,
            "grid_auto_columns": null,
            "grid_auto_flow": null,
            "grid_auto_rows": null,
            "grid_column": null,
            "grid_gap": null,
            "grid_row": null,
            "grid_template_areas": null,
            "grid_template_columns": null,
            "grid_template_rows": null,
            "height": null,
            "justify_content": null,
            "justify_items": null,
            "left": null,
            "margin": null,
            "max_height": null,
            "max_width": null,
            "min_height": null,
            "min_width": null,
            "object_fit": null,
            "object_position": null,
            "order": null,
            "overflow": null,
            "overflow_x": null,
            "overflow_y": null,
            "padding": null,
            "right": null,
            "top": null,
            "visibility": null,
            "width": null
          }
        },
        "58711d66aeef468e874dc90a96ed1f5f": {
          "model_module": "@jupyter-widgets/controls",
          "model_name": "DescriptionStyleModel",
          "model_module_version": "1.5.0",
          "state": {
            "_model_module": "@jupyter-widgets/controls",
            "_model_module_version": "1.5.0",
            "_model_name": "DescriptionStyleModel",
            "_view_count": null,
            "_view_module": "@jupyter-widgets/base",
            "_view_module_version": "1.2.0",
            "_view_name": "StyleView",
            "description_width": ""
          }
        }
      }
    }
  },
  "nbformat": 4,
  "nbformat_minor": 0
}